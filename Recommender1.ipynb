{
 "cells": [
  {
   "cell_type": "markdown",
   "metadata": {
    "id": "QJ7G5-CYlMw6"
   },
   "source": [
    "**SESRec with Tensorflow**"
   ]
  },
  {
   "cell_type": "code",
   "execution_count": null,
   "metadata": {
    "colab": {
     "base_uri": "https://localhost:8080/"
    },
    "id": "v_2d9Xz8oKnW",
    "outputId": "d860d748-5c3d-4d59-ae71-cf25533c3c26",
    "tags": []
   },
   "outputs": [],
   "source": [
    "import numpy as np\n",
    "import pandas as pd\n",
    "import tensorflow as tf\n",
    "from tensorflow import keras\n",
    "from sklearn.model_selection import train_test_split\n",
    "from sklearn.utils.class_weight import compute_class_weight\n",
    "from sklearn.metrics import precision_score, recall_score, f1_score\n",
    "\n",
    "# Loading the train and test datasets\n",
    "train_file = 'dataset/train_inter.tsv'\n",
    "test_file = 'dataset/test_inter.tsv'\n",
    "\n",
    "# Loading data from corresponding TSV files\n",
    "train_data = pd.read_csv(train_file, sep='\\t')\n",
    "test_data = pd.read_csv(test_file, sep='\\t')\n",
    "\n",
    "# Data preprocessing and mapping to integer indices for metadata\n",
    "train_data = train_data.dropna(subset=['rec_his', 'src_his', 'ts', 'label'])\n",
    "test_data = test_data.dropna(subset=['rec_his', 'src_his', 'ts', 'label'])\n",
    "\n",
    "X_train = train_data[['rec_his', 'src_his', 'ts']].values\n",
    "y_train = train_data['label'].values\n",
    "\n",
    "X_test = test_data[['rec_his', 'src_his', 'ts']].values\n",
    "y_test = test_data['label'].values\n",
    "\n",
    "# Building the recommender model with class weights and L2 regularization\n",
    "model = keras.Sequential([\n",
    "    keras.layers.Input(shape=(X_train.shape[1],)),  # Define input shape here\n",
    "    keras.layers.Dense(64, activation='relu', kernel_regularizer=tf.keras.regularizers.l2(0.01)),\n",
    "    keras.layers.BatchNormalization(),\n",
    "    keras.layers.Dense(32, activation='relu', kernel_regularizer=tf.keras.regularizers.l2(0.01)),\n",
    "    keras.layers.BatchNormalization(),\n",
    "    keras.layers.Dropout(0.3),\n",
    "    keras.layers.Dense(1, activation='sigmoid')\n",
    "])\n",
    "\n",
    "\n",
    "# Configuring the optimizer with a learning rate scheduler\n",
    "initial_learning_rate = 0.1\n",
    "lr_schedule = tf.keras.optimizers.schedules.ExponentialDecay(\n",
    "    initial_learning_rate, decay_steps=100, decay_rate=0.9, staircase=True\n",
    ")\n",
    "optimizer = tf.keras.optimizers.Adam(learning_rate=lr_schedule, clipvalue=1.0)\n",
    "\n",
    "# Compiling the model with binary cross-entropy loss and class weights\n",
    "model.compile(optimizer=optimizer, loss='binary_crossentropy', metrics=['accuracy'])\n",
    "\n",
    "# Implementing early stopping\n",
    "early_stopping = keras.callbacks.EarlyStopping(patience=6, restore_best_weights=True)\n",
    "\n",
    "# Training the model with class weights\n",
    "model.fit(X_train, y_train, epochs=50, batch_size=32, validation_split=0.2, callbacks=[early_stopping])\n",
    "\n",
    "# Evaluating the model\n",
    "loss, accuracy = model.evaluate(X_test, y_test, verbose=0)\n",
    "print(f\"Binary crossentropy: {loss}\")\n",
    "print(f\"Test Accuracy: {accuracy}\")\n",
    "\n",
    "# Making predictions on the test set\n",
    "y_pred = model.predict(X_test)\n",
    "integer_predictions = [1 if prediction >= 0.5 else 0 for prediction in y_pred]\n",
    "\n",
    "# Calculating precision, recall, and F1 score\n",
    "precision = precision_score(y_test, integer_predictions)\n",
    "recall = recall_score(y_test, integer_predictions)\n",
    "f1 = f1_score(y_test, integer_predictions)\n",
    "\n",
    "print(f\"Precision: {precision}\")\n",
    "print(f\"Recall: {recall}\")\n",
    "print(f\"F1 Score: {f1}\")\n",
    "\n",
    "# Recommendations for a user as per the user history rec_his\n",
    "user = X_test[0:1]\n",
    "predictions = model.predict(user)\n",
    "user_integer_predictions = [1 if prediction >= 0.5 else 0 for prediction in predictions]\n",
    "print(f\"Recommendations for the user: {user_integer_predictions}\")"
   ]
  }
 ],
 "metadata": {
  "colab": {
   "provenance": []
  },
  "kernelspec": {
   "display_name": "Python 3 (ipykernel)",
   "language": "python",
   "name": "python3"
  },
  "language_info": {
   "codemirror_mode": {
    "name": "ipython",
    "version": 3
   },
   "file_extension": ".py",
   "mimetype": "text/x-python",
   "name": "python",
   "nbconvert_exporter": "python",
   "pygments_lexer": "ipython3",
   "version": "3.11.5"
  }
 },
 "nbformat": 4,
 "nbformat_minor": 4
}
